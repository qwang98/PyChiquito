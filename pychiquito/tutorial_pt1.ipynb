{
 "cells": [
  {
   "cell_type": "markdown",
   "id": "0d703199-2067-4ebc-b6ed-b04470587279",
   "metadata": {},
   "source": [
    "# Part 1: Introduction to Chiquito and PyChiquito\n",
    "\n",
    "Chiquito is a high-level structured language for implementing zero knowledge proof applications, currently being implemented in the DSL Working Group of PSE, Ethereum Foundation. It is a step-based zkDSL (zero knowledge domain specific language) that provides better syntax and abstraction for features like constraint building and column placement when writing PLONKish circuits, which supports custom gates and lookup arguments. Chiquito has a Halo2 backend, which is a low level zkDSL that writes circuits using the PLONKish arithemtization. Chiquito is working on supporting additional backends.\n",
    "\n",
    "Chiquito comes in two flavors: ChiquitoCore (Rust) and PyChiquito (Python). This tutorial focuses on PyChiquito.\n",
    "\n",
    "[PyChiquito](https://github.com/qwang98/PyChiquito) is the Python front end of ChiquitoCore. It exposes Python functions that user writes circuits with. [ChiquitoCore](https://github.com/privacy-scaling-explorations/chiquito) is called by the Python functions behind the scenes and converts what the user writes into a Halo2 circuit.\n",
    "\n",
    "The key advantages of Chiquito/PyChiquito include: \n",
    "- Abstraction and simplification on the readability and learnability of Halo2 circuits.\n",
    "- Composabiity with other Halo2 circuits.\n",
    "- Modularity of using multiple frontends (Python and Rust) and backends (Halo2 and beyond).\n",
    "- Smooth user experience with a dynamically typed language (Python).\n",
    "\n",
    "For more on why you need Chiquito/PyChiquito, refer to [What is Chiquito?](https://hackmd.io/h6innd6RTwex4aBExignhw), [Chiquito README](https://github.com/privacy-scaling-explorations/chiquito#readme), and the [Appendix](https://github.com/privacy-scaling-explorations/chiquito/blob/main/Appendix.md/#design-principles) on its design principles. For more on PLONKish concepts and Halo2 circuits, refer to the [Halo2 book](https://zcash.github.io/halo2/index.html)."
   ]
  }
 ],
 "metadata": {
  "kernelspec": {
   "display_name": "pychiquito_kernel",
   "language": "python",
   "name": "pychiquito_kernel"
  },
  "language_info": {
   "codemirror_mode": {
    "name": "ipython",
    "version": 3
   },
   "file_extension": ".py",
   "mimetype": "text/x-python",
   "name": "python",
   "nbconvert_exporter": "python",
   "pygments_lexer": "ipython3",
   "version": "3.11.4"
  }
 },
 "nbformat": 4,
 "nbformat_minor": 5
}
