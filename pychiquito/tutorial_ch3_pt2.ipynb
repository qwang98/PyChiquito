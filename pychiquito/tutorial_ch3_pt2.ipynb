{
 "cells": [
  {
   "cell_type": "markdown",
   "id": "aab29f93-4311-4bff-a123-38f412556922",
   "metadata": {},
   "source": [
    "# Chapter 3: Fibonacci Example–Part 2\n",
    "Now, we will generate multiple witnesses to test the soundness of our circuit constraints. Note that we only intend to accept the following set of values for signals \"a\", \"b\", and \"c\". \"Soundness\" in this context refers to faulty witness successfully verified against the constraints (false positives), so any set of witness assignments that is different from the table below but still passes the constraints incurs a \"soundness\" error.\n",
    "| a | b | c |\n",
    "| - | - | - |\n",
    "| 1 | 1 | 2 |\n",
    "| 1 | 2 | 3 |\n",
    "| 2 | 3 | 5 |\n",
    "| 3 | 5 | 8 |\n",
    "| ... | |   |\n",
    "\n",
    "## Setup\n",
    "We setup the same circuit and witness in Part 1 which were successfully verified:"
   ]
  },
  {
   "cell_type": "code",
   "execution_count": null,
   "id": "e0114f48-0fe6-4141-b29e-63bc07411092",
   "metadata": {},
   "outputs": [],
   "source": [
    "from __future__ import annotations\n",
    "from typing import Tuple\n",
    "\n",
    "from dsl import Circuit, StepType\n",
    "from cb import eq\n",
    "from util import F\n",
    "\n",
    "class FiboStep(StepType):\n",
    "    def setup(self):\n",
    "        self.c = self.internal(\"c\")\n",
    "        self.constr(eq(self.circuit.a + self.circuit.b, self.c))\n",
    "        self.transition(eq(self.circuit.b, self.circuit.a.next()))\n",
    "        self.transition(eq(self.c, self.circuit.b.next()))\n",
    "\n",
    "    def wg(self, args):\n",
    "        a_value, b_value = args\n",
    "        self.assign(self.circuit.a, F(a_value))\n",
    "        self.assign(self.circuit.b, F(b_value))\n",
    "        self.assign(self.c, F(a_value + b_value))\n",
    "\n",
    "class Fibonacci(Circuit):\n",
    "    def setup(self):\n",
    "        self.a = self.forward(\"a\")\n",
    "        self.b = self.forward(\"b\")\n",
    "\n",
    "        self.fibo_step = self.step_type(FiboStep(self, \"fibo_step\"))\n",
    "        \n",
    "    def trace(self, args):\n",
    "        self.add(self.fibo_step, (1, 1))\n",
    "        a = 1\n",
    "        b = 2\n",
    "        for i in range(1, 10):\n",
    "            self.add(self.fibo_step, (a, b))\n",
    "            prev_a = a\n",
    "            a = b\n",
    "            b += prev_a\n",
    "\n",
    "fibo = Fibonacci()\n",
    "fibo_witness = fibo.gen_witness(None)"
   ]
  },
  {
   "cell_type": "markdown",
   "id": "182101e0-f5ee-4c16-a7c1-d09909dcbb3b",
   "metadata": {},
   "source": []
  }
 ],
 "metadata": {
  "kernelspec": {
   "display_name": "myenv",
   "language": "python",
   "name": "myenv"
  },
  "language_info": {
   "codemirror_mode": {
    "name": "ipython",
    "version": 3
   },
   "file_extension": ".py",
   "mimetype": "text/x-python",
   "name": "python",
   "nbconvert_exporter": "python",
   "pygments_lexer": "ipython3",
   "version": "3.11.4"
  }
 },
 "nbformat": 4,
 "nbformat_minor": 5
}
