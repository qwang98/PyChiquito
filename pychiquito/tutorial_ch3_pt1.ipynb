{
 "cells": [
  {
   "cell_type": "markdown",
   "id": "8ab5d5e4-6d9e-4856-ad0b-0e2cf7bb13fb",
   "metadata": {},
   "source": [
    "# Chapter 3: Fibonacci Example–Part 1\n",
    "The best learning is by doing. We will now walk through the [fibonacci.py](https://github.com/qwang98/PyChiquito/blob/main/pychiquito/fibonacci.py) example with the following PLONKish table layout and three signals–\"a\", \"b\", and \"c\".\n",
    "| a | b | c |\n",
    "| - | - | - |\n",
    "| 1 | 1 | 2 |\n",
    "| 1 | 2 | 3 |\n",
    "| 2 | 3 | 5 |\n",
    "| 3 | 5 | 8 |\n",
    "| ... | |   |\n",
    "## Imports\n",
    "These imports are for the typing hints included in this example. Python is a dynamically typed interpreted language and typings aren't enforced."
   ]
  },
  {
   "cell_type": "code",
   "execution_count": 41,
   "id": "88bf1890-2e87-4aeb-967c-809fa1ddb6e6",
   "metadata": {},
   "outputs": [],
   "source": [
    "from __future__ import annotations\n",
    "from typing import Tuple"
   ]
  },
  {
   "cell_type": "markdown",
   "id": "081fd1f7-ba9e-471a-8b10-ff54a9257539",
   "metadata": {},
   "source": [
    "The following imports are required, including:\n",
    "- `Circuit` and `StepType`, the most important data types, from the domain specific language (dsl).\n",
    "- Equal constraint `eq` from the constraint builder (cb).\n",
    "- Field element `F` from utils."
   ]
  },
  {
   "cell_type": "code",
   "execution_count": 42,
   "id": "bf77f66c-2e81-4b51-b7f1-24c1be6c9b99",
   "metadata": {},
   "outputs": [],
   "source": [
    "from dsl import Circuit, StepType\n",
    "from cb import eq\n",
    "from util import F"
   ]
  },
  {
   "cell_type": "markdown",
   "id": "1e917d9a-1843-4876-aed4-4a7e2d50df18",
   "metadata": {},
   "source": [
    "## Circuit\n",
    "On the highest level, we are building a `Circuit` object in PyChiquito, that's why we start with creating a `Fibonacci` class that inherits the `Circuit` parent class. Within the `Fibonacci` class, we define two functions:\n",
    "- `setup`, which defines the circuit configuration using signals and step types (more on this later).\n",
    "- `trace`, which defines the circuit layout and the trace of assigning witness values.\n",
    "\n",
    "## Circuit Setup\n",
    "We first define the circuit `setup`:"
   ]
  },
  {
   "cell_type": "code",
   "execution_count": 43,
   "id": "2dbea026-ff7d-49d3-8f2d-3e9e26d5fa0b",
   "metadata": {},
   "outputs": [],
   "source": [
    "class Fibonacci(Circuit):\n",
    "    def setup(self):\n",
    "        self.a = self.forward(\"a\")\n",
    "        self.b = self.forward(\"b\")\n",
    "        \n",
    "        self.fibo_step = self.step_type(FiboStep(self, \"fibo_step\"))\n",
    "\n",
    "    def trace(self):\n",
    "        pass"
   ]
  },
  {
   "cell_type": "markdown",
   "id": "fe55887b-3d4e-46ad-845a-bff752b4827c",
   "metadata": {},
   "source": [
    "We `setup` circuit configuration using signals and step types. \"Signals\" are variables we use to express custom constraints and lookup arguments. PyChiquito is a step-based language, for which we configure different \"step types\". Each step type defines different relationships among the signals. Each circuit is an arbitrary combination of step type instances. Think of the step types as different burger ingredients, such as bun, lettuce, and patties. Building a Chiquito circuit is essentially combining these ingredients to make a burger. For example, 1 bun, 1 lettuce, 2 patties, and 1 bun. It's that simple!\n",
    "\n",
    "Now back to signals. We can assign different values to the same signal at different step instances, we can query the signal at different positions, and that's why signals are also called `Queriable` in PyChiquito. There are signals that live on the circuit top-level, called \"forward signals\", which we can query at different step instances. There are signals that live in a specific step instance, called \"internal signals\".\n",
    "\n",
    "In the example above, we add two signals, \"a\" and \"b\", to the Fibonacci circuit. Again, we append signals to the circuit by defining them as `self.a` and `self.b`. Because they are circuit top-level signals rather than specific to a step-type, they are forward signals created using `self.forward`.\n",
    "\n",
    "The example above only involves one step type. Here, step type definition starts with `self.fibo_step`, because we append it directly to the circuit. `step_type` function only has one argument, which is the `FiboStep` object created using its class constructor.\n",
    "\n",
    "Before we dive into `trace`, let's define the `FiboStep` class first.\n",
    "\n",
    "## StepType\n",
    "PyChiquito provides a `StepType` parent class that we can customarily inherit. Again, for each `StepType`, we define two functions:\n",
    "- `setup`, which defines the step type configuration using signals\n",
    "- `wg`, which defines witness assignment within the step type\n",
    "\n",
    "## FiboStep Setup\n",
    "In the Fibonacci cicuit, we consider each row a step instance. For example, in row 1, a=1 b=1 c=2. In row 2, a=1 b=2 c=3. Given the nature of Fibonacci, We want to enforce the constraint that b in the current step instance equals a in the next step instance and that c in the current step instance equals b in the next step instance. We created \"a\" and \"b\" as forward signals above, because they are referred to across multiple step instances.\n",
    "\n",
    "We now define the only step type, `FiboStep`:"
   ]
  },
  {
   "cell_type": "code",
   "execution_count": 44,
   "id": "5b652526-d107-431a-8569-63e7e4ff00cb",
   "metadata": {},
   "outputs": [],
   "source": [
    "class FiboStep(StepType):\n",
    "    def setup(self):\n",
    "        self.c = self.internal(\"c\")\n",
    "        self.constr(eq(self.circuit.a + self.circuit.b, self.c))\n",
    "        self.transition(eq(self.circuit.b, self.circuit.a.next()))\n",
    "        self.transition(eq(self.c, self.circuit.b.next()))\n",
    "\n",
    "    def wg(self):\n",
    "        pass"
   ]
  },
  {
   "cell_type": "markdown",
   "id": "2975b706-3a9d-48e8-86e8-03c8cc32d3fa",
   "metadata": {},
   "source": [
    "As each step instance contains three signals, only two of which we've defined so far, we define a third signal \"c\", whose relationship is only defined within the step type and therefore an internal signal created using `self.internal`.\n",
    "\n",
    "Next, we define constraints among signals, both forward and internal. There are two types of constraints in PyChiquito:\n",
    "- `constr` stands for constraints among signals that are specific to the step type, i.e. internal signals.\n",
    "- `transition` stands for constraints involving circuit-level signals, i.e. forward signals and etc.\n",
    "\n",
    "In the code snippet below, forward signals \"a\" and \"b\" are expressed as `self.circuit.a` and `self.circuit.b`, whereas internal signal \"c\" is expressed `self.c`, because \"a\" and \"b\" are at the circuit-level. `self.circuit.a.next()` queries the value of circuit-level signal \"a\" at the next step instance. `eq` is a constraint builder that enforces equality between the two arguments passed in. The following constraints are translated as:\n",
    "- a + b == c\n",
    "- b == value of a in next step instance\n",
    "- c = value of b in next step instance\n",
    "\n",
    "## FiboStep Witness Generation"
   ]
  },
  {
   "cell_type": "code",
   "execution_count": 45,
   "id": "dc67e550-e989-4ae7-b4b0-d0602568b660",
   "metadata": {},
   "outputs": [],
   "source": [
    "class FiboStep(StepType):\n",
    "    def setup(self: FiboStep):\n",
    "        pass\n",
    "\n",
    "    def wg(self: FiboStep, args: Tuple[int, int]):\n",
    "        a_value, b_value = args\n",
    "        self.assign(self.circuit.a, F(a_value))\n",
    "        self.assign(self.circuit.b, F(b_value))\n",
    "        self.assign(self.c, F(a_value + b_value))"
   ]
  },
  {
   "cell_type": "markdown",
   "id": "e796854b-9287-4f81-9add-3c13f6d7aac8",
   "metadata": {},
   "source": [
    "In the example above, `wg` (witness generation) defines witness value assignments at the step type level. Here, the `args` we pass in is a tuple of values for signals \"a\" and \"b\". We assign them to forward signals \"a\" and \"b\" and then their sum to internal signal \"c\".\n",
    "\n",
    "Finally, note that in `self.assign`, `a_value` and `b_value` are both wrapped in `F`, which converts them from int to field elements. All witness assignments in PyChiquito are field elements."
   ]
  },
  {
   "cell_type": "markdown",
   "id": "09027f91-ef93-4ad4-b376-9e437d672d52",
   "metadata": {},
   "source": [
    "Putting everything for `FiboStep` together, we have:"
   ]
  },
  {
   "cell_type": "code",
   "execution_count": 46,
   "id": "d1e7c70f-1f96-4278-90b2-93992ab6ddc4",
   "metadata": {},
   "outputs": [],
   "source": [
    "class FiboStep(StepType):\n",
    "    def setup(self):\n",
    "        self.c = self.internal(\"c\")\n",
    "        self.constr(eq(self.circuit.a + self.circuit.b, self.c))\n",
    "        self.transition(eq(self.circuit.b, self.circuit.a.next()))\n",
    "        self.transition(eq(self.c, self.circuit.b.next()))\n",
    "\n",
    "    def wg(self, args):\n",
    "        a_value, b_value = args\n",
    "        self.assign(self.circuit.a, F(a_value))\n",
    "        self.assign(self.circuit.b, F(b_value))\n",
    "        self.assign(self.c, F(a_value + b_value))"
   ]
  },
  {
   "cell_type": "markdown",
   "id": "b63209f1-fc30-48cb-8ead-4b8bbcc49521",
   "metadata": {},
   "source": [
    "## Circuit Trace\n",
    "Now we finished defining the ingredient (step type). Let's make the burger (combining step instances)!"
   ]
  },
  {
   "cell_type": "code",
   "execution_count": 47,
   "id": "a197c4b7-55ad-4403-8b9d-52911641fa9d",
   "metadata": {},
   "outputs": [],
   "source": [
    "class Fibonacci(Circuit):\n",
    "    def setup(self):\n",
    "        self.a = self.forward(\"a\")\n",
    "        self.b = self.forward(\"b\")\n",
    "\n",
    "        self.fibo_step = self.step_type(FiboStep(self, \"fibo_step\"))\n",
    "        \n",
    "    def trace(self, args):\n",
    "        self.add(self.fibo_step, (1, 1))\n",
    "        a = 1\n",
    "        b = 2\n",
    "        for i in range(1, 10):\n",
    "            self.add(self.fibo_step, (a, b))\n",
    "            prev_a = a\n",
    "            a = b\n",
    "            b += prev_a"
   ]
  },
  {
   "cell_type": "markdown",
   "id": "3402d6e6-07b3-4bb5-a732-229b632bffad",
   "metadata": {},
   "source": [
    "In `trace`, we define the circuit layout using step instances and a trace of witness value assignments. `trace` takes two arguments, the `Fibonacci` circuit itself and the witness value assignment arguments `args`.\n",
    "\n",
    "We call `self.add` to instantiate `fibo_step` we defined and pass in the witness values for \"a\" and \"b\". Note that we only hardcoded witness values for the first step instance as `(1, 1)`, because all other witness values can be calculated given the nature of Fibonacci. \n",
    "\n",
    "Note that `self.add` creates step instance by calling `wg` associated with the step type. Therefore `args` in `wg`, i.e. tuple of `a_value, b_value`, needs to match the second input of `self.add`, e.g. `(a, b)` in `self.add(self.fibo_step, (a, b))`.\n",
    "\n",
    "We didn't pass in witness values for \"c\", because they are only ever calculated in `wg`.\n",
    "\n",
    "Note that we need to pass in witness value assignments in a single argument `args` and therefore we use a tuple in this case. `args` can really be any data type as long as it's one single argument.\n",
    "\n",
    "After creating the first `fibo_step` instance, we loop over `fibo_step` creation for 9 more times, each time calculating and passing in a different tuple of assignments. Voila, here's our PyChiquito Fibonacci \"burger\" with 10 patties (`fibo_step`) and nothing else!\n",
    "\n",
    "## Putting Everything Together\n",
    "Everything we went through above defines how the circuit and its step type are configured and witness values assigned to them. To instantiate the circuit, we call the class constructor:"
   ]
  },
  {
   "cell_type": "code",
   "execution_count": 48,
   "id": "c0c9db95-8da8-49d6-a403-895491c833fe",
   "metadata": {},
   "outputs": [],
   "source": [
    "fibo = Fibonacci()"
   ]
  },
  {
   "cell_type": "markdown",
   "id": "cba8d58a-81b6-449b-aa02-b54fa9b076c4",
   "metadata": {},
   "source": [
    "You can also print the circuit. In the print out, you will see the single step type and two forward signals \"a\" and \"b\" at the circuit top-level. Within each step type, you will see the internal signals and constraints. The big random looking numbers are UUIDs that we use to uniquely identify objects in the circuit, which you don't need to worry about."
   ]
  },
  {
   "cell_type": "code",
   "execution_count": 49,
   "id": "d259b3b8-a15c-416c-9076-24c06f5b22e6",
   "metadata": {},
   "outputs": [
    {
     "name": "stdout",
     "output_type": "stream",
     "text": [
      "ASTCircuit(\n",
      "\tstep_types={\n",
      "\t\t246502402039451354789087853155778693642: ASTStepType(\n",
      "\t\t\tid=246502402039451354789087853155778693642,\n",
      "\t\t\tname='fibo_step',\n",
      "\t\t\tsignals=[\n",
      "\t\t\t\tInternalSignal(id=246502415508238982210296263566787480074, annotation='c')\n",
      "\t\t\t],\n",
      "\t\t\tconstraints=[\n",
      "\t\t\t\tConstraint(\n",
      "\t\t\t\t\tannotation='((a + b) == c)',\n",
      "\t\t\t\t\texpr=(a + b - (-c))\n",
      "\t\t\t\t)\n",
      "\t\t\t],\n",
      "\t\t\ttransition_constraints=[\n",
      "\t\t\t\tTransitionConstraint((b == next(a))),\n",
      "\t\t\t\tTransitionConstraint((c == next(b)))\n",
      "\t\t\t],\n",
      "\t\t\tannotations={\n",
      "\t\t\t\t246502415508238982210296263566787480074: c\n",
      "\t\t\t}\n",
      "\t\t)\n",
      "\t},\n",
      "\tforward_signals=[\n",
      "\t\tForwardSignal(id=246502365594496598225421467246924532234, phase=0, annotation='a'),\n",
      "\t\tForwardSignal(id=246502388570663727361143183602130487818, phase=0, annotation='b')\n",
      "\t],\n",
      "\tshared_signals=[],\n",
      "\tfixed_signals=[],\n",
      "\texposed=[],\n",
      "\tannotations={\n",
      "\t\t246502365594496598225421467246924532234: a,\n",
      "\t\t246502388570663727361143183602130487818: b,\n",
      "\t\t246502402039451354789087853155778693642: fibo_step\n",
      "\t},\n",
      "\tfixed_gen=None,\n",
      "\tfirst_step=None,\n",
      "\tlast_step=None,\n",
      "\tnum_steps=0\n",
      "\tq_enable=True\n",
      ")\n"
     ]
    }
   ],
   "source": [
    "print(fibo)"
   ]
  },
  {
   "cell_type": "markdown",
   "id": "a2358ce7-8192-4dc5-971e-1314d287ae3b",
   "metadata": {},
   "source": [
    "After initiating the Fibonacci circuit, we can generate witness assignments for it. `gen_witness` takes one argument of external input with `Any` type. However, because the only external input, `(1, 1)`, was hardcoded in `trace`, we don't need to provide an additional one and can put `None` for this argument. In practice, one circuit can have many different sets of witness assignments, each generated by a different external input argument. This is why we expose the `gen_witness` function to you."
   ]
  },
  {
   "cell_type": "code",
   "execution_count": 50,
   "id": "24a0d3d8-710e-42fe-99ae-7491b50d7cd7",
   "metadata": {},
   "outputs": [],
   "source": [
    "fibo_witness = fibo.gen_witness(None)"
   ]
  },
  {
   "cell_type": "markdown",
   "id": "f4762085-fa23-4e39-9380-e816cdf4eaaa",
   "metadata": {},
   "source": [
    "Again, you can print the witness assignments:"
   ]
  },
  {
   "cell_type": "code",
   "execution_count": 51,
   "id": "d1aaca8a-35eb-4c9d-8794-56869f696849",
   "metadata": {},
   "outputs": [
    {
     "name": "stdout",
     "output_type": "stream",
     "text": [
      "TraceWitness(\n",
      "\tstep_instances={\n",
      "\t\tStepInstance(\n",
      "\t\t\tstep_type_uuid=246502402039451354789087853155778693642,\n",
      "\t\t\tassignments={\n",
      "\t\t\t\ta = 1,\n",
      "\t\t\t\tb = 1,\n",
      "\t\t\t\tc = 2\n",
      "\t\t\t},\n",
      "\t\t),\n",
      "\t\tStepInstance(\n",
      "\t\t\tstep_type_uuid=246502402039451354789087853155778693642,\n",
      "\t\t\tassignments={\n",
      "\t\t\t\ta = 1,\n",
      "\t\t\t\tb = 2,\n",
      "\t\t\t\tc = 3\n",
      "\t\t\t},\n",
      "\t\t),\n",
      "\t\tStepInstance(\n",
      "\t\t\tstep_type_uuid=246502402039451354789087853155778693642,\n",
      "\t\t\tassignments={\n",
      "\t\t\t\ta = 2,\n",
      "\t\t\t\tb = 3,\n",
      "\t\t\t\tc = 5\n",
      "\t\t\t},\n",
      "\t\t),\n",
      "\t\tStepInstance(\n",
      "\t\t\tstep_type_uuid=246502402039451354789087853155778693642,\n",
      "\t\t\tassignments={\n",
      "\t\t\t\ta = 3,\n",
      "\t\t\t\tb = 5,\n",
      "\t\t\t\tc = 8\n",
      "\t\t\t},\n",
      "\t\t),\n",
      "\t\tStepInstance(\n",
      "\t\t\tstep_type_uuid=246502402039451354789087853155778693642,\n",
      "\t\t\tassignments={\n",
      "\t\t\t\ta = 5,\n",
      "\t\t\t\tb = 8,\n",
      "\t\t\t\tc = 13\n",
      "\t\t\t},\n",
      "\t\t),\n",
      "\t\tStepInstance(\n",
      "\t\t\tstep_type_uuid=246502402039451354789087853155778693642,\n",
      "\t\t\tassignments={\n",
      "\t\t\t\ta = 8,\n",
      "\t\t\t\tb = 13,\n",
      "\t\t\t\tc = 21\n",
      "\t\t\t},\n",
      "\t\t),\n",
      "\t\tStepInstance(\n",
      "\t\t\tstep_type_uuid=246502402039451354789087853155778693642,\n",
      "\t\t\tassignments={\n",
      "\t\t\t\ta = 13,\n",
      "\t\t\t\tb = 21,\n",
      "\t\t\t\tc = 34\n",
      "\t\t\t},\n",
      "\t\t),\n",
      "\t\tStepInstance(\n",
      "\t\t\tstep_type_uuid=246502402039451354789087853155778693642,\n",
      "\t\t\tassignments={\n",
      "\t\t\t\ta = 21,\n",
      "\t\t\t\tb = 34,\n",
      "\t\t\t\tc = 55\n",
      "\t\t\t},\n",
      "\t\t),\n",
      "\t\tStepInstance(\n",
      "\t\t\tstep_type_uuid=246502402039451354789087853155778693642,\n",
      "\t\t\tassignments={\n",
      "\t\t\t\ta = 34,\n",
      "\t\t\t\tb = 55,\n",
      "\t\t\t\tc = 89\n",
      "\t\t\t},\n",
      "\t\t),\n",
      "\t\tStepInstance(\n",
      "\t\t\tstep_type_uuid=246502402039451354789087853155778693642,\n",
      "\t\t\tassignments={\n",
      "\t\t\t\ta = 55,\n",
      "\t\t\t\tb = 89,\n",
      "\t\t\t\tc = 144\n",
      "\t\t\t},\n",
      "\t\t)\n",
      "\t},\n",
      "\theight=0,\n",
      ")\n"
     ]
    }
   ],
   "source": [
    "print(fibo_witness)"
   ]
  },
  {
   "cell_type": "markdown",
   "id": "68820a5f-d32e-4f04-a66f-879c24740c92",
   "metadata": {},
   "source": [
    "We can convert and register the PyChiquito circuit as a Halo2 circuit in Rust Chiquito. `ast_to_halo2` function achieves this purpose and prints out the Halo2 circuit UUID generated for our PyChiquito circuit. You don't need to do anything with the UUID."
   ]
  },
  {
   "cell_type": "code",
   "execution_count": 52,
   "id": "f6277a38-b5af-408a-b844-93655195a898",
   "metadata": {},
   "outputs": [
    {
     "name": "stdout",
     "output_type": "stream",
     "text": [
      "253529837850136958128877792815148042762\n",
      "253529837850136958128877792815148042762\n"
     ]
    }
   ],
   "source": [
    "fibo.ast_to_halo2()"
   ]
  },
  {
   "cell_type": "markdown",
   "id": "f8937921-d923-4802-bc52-b3dbadb53c73",
   "metadata": {},
   "source": [
    "Finally, we can generate and verify the proof with the witness. The print out includes Halo2 and Rust Chiquito debug messages. `Ok(())` means that proof was correctly generated and verified for the witness assignments and circuit. `Err()` prints out Halo2 and Rust Chiquito error messages, usually because some constraints in the circuit were not satisfied. Here, you should see the `Ok(())` print out."
   ]
  },
  {
   "cell_type": "code",
   "execution_count": 53,
   "id": "a3f8d245-adab-4e68-9ee6-5f6bafc12bd1",
   "metadata": {},
   "outputs": [
    {
     "name": "stdout",
     "output_type": "stream",
     "text": [
      "Ok(\n",
      "    (),\n",
      ")\n"
     ]
    }
   ],
   "source": [
    "fibo.verify_proof(fibo_witness)"
   ]
  },
  {
   "cell_type": "markdown",
   "id": "fa056c5c-95b0-44c7-9566-c030ac071cf3",
   "metadata": {},
   "source": [
    "Congratulations! Now you finished writing your first Fibonacci circuit and learned about the most essential concepts behind the step-based design of PyChiquito, which is really as easy as bun-lettuce-patty-patty-bun, basically combining step instances to a PyChiquito burger! With abstraction, composability, modularity, and smooth user experience as the key tenets, writing Halo2 circuits has never been easier with PyChiquito!\n",
    "\n",
    "Next up, in Chapter 3: Fibonacci Example-Part 2, you will learn about testing your circuit with multiple different witnesses."
   ]
  }
 ],
 "metadata": {
  "kernelspec": {
   "display_name": "myenv",
   "language": "python",
   "name": "myenv"
  },
  "language_info": {
   "codemirror_mode": {
    "name": "ipython",
    "version": 3
   },
   "file_extension": ".py",
   "mimetype": "text/x-python",
   "name": "python",
   "nbconvert_exporter": "python",
   "pygments_lexer": "ipython3",
   "version": "3.11.4"
  }
 },
 "nbformat": 4,
 "nbformat_minor": 5
}
