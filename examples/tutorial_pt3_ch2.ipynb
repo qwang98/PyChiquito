{
 "cells": [
  {
   "cell_type": "markdown",
   "id": "8ab5d5e4-6d9e-4856-ad0b-0e2cf7bb13fb",
   "metadata": {},
   "source": [
    "# Part 3: Fibonacci Example\n",
    "# Chapter 2: StepType and Circuit\n",
    "In this Chapter, we code out the concepts learned in Chapter 1 in PyChiquito, but before that, let's import the dependencies first.\n",
    "## Imports\n",
    "These imports are for the typing hints included in this example. They are not required, because Python is a dynamically typed interpreted language and typings aren't enforced."
   ]
  },
  {
   "cell_type": "code",
   "execution_count": 1,
   "id": "88bf1890-2e87-4aeb-967c-809fa1ddb6e6",
   "metadata": {},
   "outputs": [],
   "source": [
    "from __future__ import annotations\n",
    "from typing import Tuple"
   ]
  },
  {
   "cell_type": "markdown",
   "id": "081fd1f7-ba9e-471a-8b10-ff54a9257539",
   "metadata": {},
   "source": [
    "The following imports are required, including:\n",
    "- `Circuit` and `StepType`, the most important data types, from the domain specific language (dsl).\n",
    "- Equal constraint `eq` from the constraint builder (cb).\n",
    "- Field element `F` from utils."
   ]
  },
  {
   "cell_type": "code",
   "execution_count": 3,
   "id": "bf77f66c-2e81-4b51-b7f1-24c1be6c9b99",
   "metadata": {},
   "outputs": [],
   "source": [
    "from chiquito.dsl import Circuit, StepType\n",
    "from chiquito.cb import eq\n",
    "from chiquito.util import F"
   ]
  },
  {
   "attachments": {},
   "cell_type": "markdown",
   "id": "de1bb748-3e94-42ea-9bad-689d5da0d468",
   "metadata": {},
   "source": [
    "## StepType\n",
    "Before putting everything together into a circuit, we need to define the step types first. Remember that the Fibonacci circuit is composed of one single step type, defined as 3 signals \"a\", \"b\", and \"c\", plus three constraints `a + b == c`, `b == a.next`, and `c == b.next`, where \"next\" means the same signal in the next step instance:\n",
    "\n",
    "| Step Type | Step Instance Index || Signals ||| Setups ||\n",
    "| :-: | :-: | :-: | :-: | :-: | :-: | :-: | :-: |\n",
    "||| a | b | c | constraint 1 | constraint 2 | constraint 3 |\n",
    "| fibo step | 0 | 1 | 1 | 2 | a + b == c | b == a.next | c == b.next |\n",
    "| fibo step | 1 | 1 | 2 | 3 | a + b == c | b == a.next | c == b.next |\n",
    "| fibo step | 2 | 2 | 3 | 5 | a + b == c | b == a.next | c == b.next |\n",
    "| fibo step | 3 | 3 | 5 | 8 | a + b == c | b == a.next | c == b.next |\n",
    "| ... | ... || ... ||| ... ||\n",
    "\n",
    "PyChiquito provides a `StepType` parent class that we can customarily inherit. For each `StepType`, we need to define two functions:\n",
    "- `setup`, which defines constraints using signals\n",
    "- `wg`, which defines witness assignment for the step type\n",
    "\n",
    "## Signal Types\n",
    "Now, a bit more on the signals. In Chiquito, there are signals that we can only query for the current step instance, which we call \"internal signals\". There are also signals that we can query for non-current step instances, such as the next step instance, which we call \"forward signals\". In the example above, \"a\" and \"b\" were both queried at the next step instance as `a.next` and `b.next` respectively, and therefore are \"forward signals\". \"c\" is only ever queried at the current step instance, and therefore is called \"internal signal\". In Chiquito, querying to a non-current step instance is also referred to as \"rotation\", which is a positive or negative number relative to the current step instance. We can call `next` on a forward signal, implying a rotation of `+1`. There are additional Chiquito signal types, such as \"shared signal\" and \"fixed signal\", which allows for arbitrary positive or negative rotation. However, in this Fibonacci example, we will only use forward signals \"a\" and \"b\" as well as internal signal \"c\".\n",
    "\n",
    "## FiboStep Setup\n",
    "We now define the only step type, `FiboStep`:\n",
    "```\n",
    "class FiboStep(StepType):\n",
    "    def setup(self):\n",
    "        self.c = self.internal(\"c\")\n",
    "        self.constr(eq(self.circuit.a + self.circuit.b, self.c))\n",
    "        self.transition(eq(self.circuit.b, self.circuit.a.next()))\n",
    "        self.transition(eq(self.c, self.circuit.b.next()))\n",
    "\n",
    "    def wg(self):\n",
    "        # TODO\n",
    "```\n",
    "Here, \"c\" is defined using `self.internal` as an internal signal that's only queried within a `FiboStep` instance. We didn't define \"a\" and \"b\", as they are forward signals which Chiquito defines on the circuit-level. More on that later.\n",
    "\n",
    "Next, we define constraints among signals, both forward and internal. There are two types of constraints in PyChiquito:\n",
    "- `constr` stands for constraints among signals that are queried within a step type instance, i.e. internal signals.\n",
    "- `transition` stands for constraints involving circuit-level signals, i.e. forward signals and etc.\n",
    "\n",
    "In the code snippet above, forward signals \"a\" and \"b\" are expressed as `self.circuit.a` and `self.circuit.b`, whereas internal signal \"c\" is expressed as `self.c`, because \"a\" and \"b\" are at the circuit-level. `self.circuit.a.next()` queries the value of circuit-level signal \"a\" at the next step instance. `eq` is a constraint builder that enforces equality between the two arguments passed in. It builds the three constraints of `FiboStep`: `a + b == c`, `b == a.next`, and `c == b.next`.\n",
    "\n",
    "## FiboStep Witness Generation\n",
    "```\n",
    "class FiboStep(StepType):\n",
    "    def setup(self: FiboStep):\n",
    "        # ...\n",
    "\n",
    "    def wg(self: FiboStep, args: Tuple[int, int]):\n",
    "        a_value, b_value = args\n",
    "        self.assign(self.circuit.a, F(a_value))\n",
    "        self.assign(self.circuit.b, F(b_value))\n",
    "        self.assign(self.c, F(a_value + b_value))\n",
    "```\n",
    "In the example above, `wg` (witness generation) defines witness value assignments at the step type level. Here, the `args` we pass in is a tuple of values for signals \"a\" and \"b\". We assign them to forward signals \"a\" and \"b\" and then their sum to internal signal \"c\".\n",
    "\n",
    "Note that in `self.assign`, `a_value` and `b_value` are both wrapped in `F`, which converts them from int to field elements. All witness assignments in PyChiquito are field elements.\n",
    "\n",
    "Putting everything for `FiboStep` together, we have:\n",
    "```\n",
    "class FiboStep(StepType):\n",
    "    def setup(self):\n",
    "        self.c = self.internal(\"c\")\n",
    "        self.constr(eq(self.circuit.a + self.circuit.b, self.c))\n",
    "        self.transition(eq(self.circuit.b, self.circuit.a.next()))\n",
    "        self.transition(eq(self.c, self.circuit.b.next()))\n",
    "\n",
    "    def wg(self, args):\n",
    "        a_value, b_value = args\n",
    "        self.assign(self.circuit.a, F(a_value))\n",
    "        self.assign(self.circuit.b, F(b_value))\n",
    "        self.assign(self.c, F(a_value + b_value))\n",
    "```\n",
    "\n",
    "## Circuit\n",
    "Now that we finished constructing the only step type `FiboStep`, we can build a `Circuit` object in PyChiquito. PyChiquito provides a `Circuit` parent class that we can customarily inherit. For each `Circuit`, we need to define two functions:\n",
    "- `setup`, which configures the circuit with signals and step types.\n",
    "- `trace`, which instantiates step types and defines the trace of assigning witness values.\n",
    "\n",
    "## Circuit Setup\n",
    "We first define the circuit `setup`:\n",
    "```\n",
    "class Fibonacci(Circuit):\n",
    "    def setup(self):\n",
    "        self.a = self.forward(\"a\")\n",
    "        self.b = self.forward(\"b\")\n",
    "        \n",
    "        self.fibo_step = self.step_type(FiboStep(self, \"fibo_step\"))\n",
    "\n",
    "    def trace(self):\n",
    "        # TODO\n",
    "```\n",
    "Remember that previously we already added internal signal \"c\" to `FiboStep`. Now we add two forward signals \"a\" and \"b\" to the circuit-level. We append these signals to the circuit by defining them as `self.a` and `self.b`. Forward signals are created using `self.forward`.\n",
    "\n",
    "Next, we append the only step type to the circuit by defining it as `self.fibo_step`. `step_type` function only has one argument, which is the `FiboStep` object created using its class constructor.\n",
    "\n",
    "## Circuit Trace\n",
    "Now we instantiate step types and assign witness values using `trace`:\n",
    "```\n",
    "class Fibonacci(Circuit):\n",
    "    def setup(self):\n",
    "        # ...\n",
    "        \n",
    "    def trace(self, args):\n",
    "        self.add(self.fibo_step, (1, 1))\n",
    "        a = 1\n",
    "        b = 2\n",
    "        for i in range(1, 4):\n",
    "            self.add(self.fibo_step, (a, b))\n",
    "            prev_a = a\n",
    "            a = b\n",
    "            b += prev_a\n",
    "```\n",
    "`trace` takes two arguments, the `Fibonacci` circuit itself and the witness value assignment arguments `args`. We call `self.add` to instantiate `fibo_step` we defined and pass in the witness values for \"a\" and \"b\". Note that we only hardcoded witness values for the first step instance as `(1, 1)`, because all other witness values can be calculated given the nature of Fibonacci. \n",
    "\n",
    "Note that `self.add` creates step instance by calling `wg` associated with the step type. Therefore, the second input of `self.add`, e.g. `(a, b)` in `self.add(self.fibo_step, (a, b))`, needs to match `args` in `FiboStep` `wg`, i.e. tuple of `a_value, b_value`.\n",
    "\n",
    "We didn't pass in witness values for \"c\", because they are calculated in `FiboStep` `wg`.\n",
    "\n",
    "Note that we need to pass in witness value assignments in a single argument `args` and therefore we use a tuple in this case. `args` can really be any data type as long as it's one single argument.\n",
    "FiboStep\n",
    "After creating the first `FiboStep` instance, we loop over `FiboStep` instantiation for 3 more times, each time calculating and passing in a different tuple of assignments. Voila, here's our Fibonacci circuit with 4 `FiboStep` instances:"
   ]
  },
  {
   "cell_type": "code",
   "execution_count": 3,
   "id": "d7c21e5d-5a9c-47b8-8c18-ed59fe885709",
   "metadata": {},
   "outputs": [],
   "source": [
    "class FiboStep(StepType):\n",
    "    def setup(self):\n",
    "        self.c = self.internal(\"c\")\n",
    "        self.constr(eq(self.circuit.a + self.circuit.b, self.c))\n",
    "        self.transition(eq(self.circuit.b, self.circuit.a.next()))\n",
    "        self.transition(eq(self.c, self.circuit.b.next()))\n",
    "\n",
    "    def wg(self, args):\n",
    "        a_value, b_value = args\n",
    "        self.assign(self.circuit.a, F(a_value))\n",
    "        self.assign(self.circuit.b, F(b_value))\n",
    "        self.assign(self.c, F(a_value + b_value))\n",
    "\n",
    "class Fibonacci(Circuit):\n",
    "    def setup(self):\n",
    "        self.a = self.forward(\"a\")\n",
    "        self.b = self.forward(\"b\")\n",
    "        \n",
    "        self.fibo_step = self.step_type(FiboStep(self, \"fibo_step\"))\n",
    "        \n",
    "    def trace(self, args):\n",
    "        self.add(self.fibo_step, (1, 1))\n",
    "        a = 1\n",
    "        b = 2\n",
    "        for i in range(1, 4):\n",
    "            self.add(self.fibo_step, (a, b))\n",
    "            prev_a = a\n",
    "            a = b\n",
    "            b += prev_a"
   ]
  },
  {
   "cell_type": "markdown",
   "id": "ca7b3167-e811-4427-9151-a85eaed20cb3",
   "metadata": {},
   "source": [
    "## Putting Everything Together\n",
    "Everything we went through above defines how the circuit and its step type are configured and witness values assigned to them. To instantiate the circuit, we call the class constructor:"
   ]
  },
  {
   "cell_type": "code",
   "execution_count": 4,
   "id": "c0c9db95-8da8-49d6-a403-895491c833fe",
   "metadata": {},
   "outputs": [],
   "source": [
    "fibo = Fibonacci()"
   ]
  },
  {
   "cell_type": "markdown",
   "id": "cba8d58a-81b6-449b-aa02-b54fa9b076c4",
   "metadata": {},
   "source": [
    "You can also print the circuit. In the print out, you will see the single step type `FiboStep` and two forward signals \"a\" and \"b\" at the circuit-level. Within `FiboStep`, you will see one internal signal \"c\" and the constraints. The big random looking numbers are UUIDs that we use to uniquely identify objects in the circuit, which you don't need to worry about."
   ]
  },
  {
   "cell_type": "code",
   "execution_count": 5,
   "id": "d259b3b8-a15c-416c-9076-24c06f5b22e6",
   "metadata": {},
   "outputs": [
    {
     "name": "stdout",
     "output_type": "stream",
     "text": [
      "ASTCircuit(\n",
      "\tstep_types={\n",
      "\t\t175487786213455723101965983777064356362: ASTStepType(\n",
      "\t\t\tid=175487786213455723101965983777064356362,\n",
      "\t\t\tname='fibo_step',\n",
      "\t\t\tsignals=[\n",
      "\t\t\t\tInternalSignal(id=175487817112439103662857355366257789450, annotation='c')\n",
      "\t\t\t],\n",
      "\t\t\tconstraints=[\n",
      "\t\t\t\tConstraint(\n",
      "\t\t\t\t\tannotation='((a + b) == c)',\n",
      "\t\t\t\t\texpr=(a + b - (-c))\n",
      "\t\t\t\t)\n",
      "\t\t\t],\n",
      "\t\t\ttransition_constraints=[\n",
      "\t\t\t\tTransitionConstraint((b == next(a))),\n",
      "\t\t\t\tTransitionConstraint((c == next(b)))\n",
      "\t\t\t],\n",
      "\t\t\tannotations={\n",
      "\t\t\t\t175487817112439103662857355366257789450: c\n",
      "\t\t\t}\n",
      "\t\t)\n",
      "\t},\n",
      "\tforward_signals=[\n",
      "\t\tForwardSignal(id=175487708569856459120001313145084316170, phase=0, annotation='a'),\n",
      "\t\tForwardSignal(id=175487756106753967678767124757946698250, phase=0, annotation='b')\n",
      "\t],\n",
      "\tshared_signals=[],\n",
      "\tfixed_signals=[],\n",
      "\texposed=[],\n",
      "\tannotations={\n",
      "\t\t175487708569856459120001313145084316170: a,\n",
      "\t\t175487756106753967678767124757946698250: b,\n",
      "\t\t175487786213455723101965983777064356362: fibo_step\n",
      "\t},\n",
      "\tfixed_gen=None,\n",
      "\tfirst_step=None,\n",
      "\tlast_step=None,\n",
      "\tnum_steps=0\n",
      "\tq_enable=True\n",
      ")\n"
     ]
    }
   ],
   "source": [
    "print(fibo)"
   ]
  },
  {
   "cell_type": "markdown",
   "id": "a2358ce7-8192-4dc5-971e-1314d287ae3b",
   "metadata": {},
   "source": [
    "After initiating the Fibonacci circuit, we can generate witness assignments for it. `gen_witness` takes one argument of external input with `Any` type. However, because the only external input, `(1, 1)`, was hardcoded in `trace`, we don't need to provide an additional one and can put `None` for this argument. In practice, one circuit can have many different sets of witness assignments, each generated by a different external input argument. This is why we expose the `gen_witness` function to you."
   ]
  },
  {
   "cell_type": "code",
   "execution_count": 6,
   "id": "24a0d3d8-710e-42fe-99ae-7491b50d7cd7",
   "metadata": {},
   "outputs": [],
   "source": [
    "fibo_witness = fibo.gen_witness(None)"
   ]
  },
  {
   "cell_type": "markdown",
   "id": "f4762085-fa23-4e39-9380-e816cdf4eaaa",
   "metadata": {},
   "source": [
    "Again, you can print the witness assignments:"
   ]
  },
  {
   "cell_type": "code",
   "execution_count": 7,
   "id": "d1aaca8a-35eb-4c9d-8794-56869f696849",
   "metadata": {},
   "outputs": [
    {
     "name": "stdout",
     "output_type": "stream",
     "text": [
      "TraceWitness(\n",
      "\tstep_instances={\n",
      "\t\tStepInstance(\n",
      "\t\t\tstep_type_uuid=175487786213455723101965983777064356362,\n",
      "\t\t\tassignments={\n",
      "\t\t\t\ta = 1,\n",
      "\t\t\t\tb = 1,\n",
      "\t\t\t\tc = 2\n",
      "\t\t\t},\n",
      "\t\t),\n",
      "\t\tStepInstance(\n",
      "\t\t\tstep_type_uuid=175487786213455723101965983777064356362,\n",
      "\t\t\tassignments={\n",
      "\t\t\t\ta = 1,\n",
      "\t\t\t\tb = 2,\n",
      "\t\t\t\tc = 3\n",
      "\t\t\t},\n",
      "\t\t),\n",
      "\t\tStepInstance(\n",
      "\t\t\tstep_type_uuid=175487786213455723101965983777064356362,\n",
      "\t\t\tassignments={\n",
      "\t\t\t\ta = 2,\n",
      "\t\t\t\tb = 3,\n",
      "\t\t\t\tc = 5\n",
      "\t\t\t},\n",
      "\t\t),\n",
      "\t\tStepInstance(\n",
      "\t\t\tstep_type_uuid=175487786213455723101965983777064356362,\n",
      "\t\t\tassignments={\n",
      "\t\t\t\ta = 3,\n",
      "\t\t\t\tb = 5,\n",
      "\t\t\t\tc = 8\n",
      "\t\t\t},\n",
      "\t\t)\n",
      "\t},\n",
      ")\n"
     ]
    }
   ],
   "source": [
    "print(fibo_witness)"
   ]
  },
  {
   "cell_type": "markdown",
   "id": "f8937921-d923-4802-bc52-b3dbadb53c73",
   "metadata": {},
   "source": [
    "Finally, we can generate and verify proof with the witness using the Halo2 mock prover. The print out includes Halo2 and ChiquitoCore debug messages. `Ok(())` means that proof was correctly generated and verified for the witness and circuit. `Err()` prints out Halo2 and ChiquitoCore error messages, usually because some constraints in the circuit were not satisfied. Here, you should see the `Ok(())` print out."
   ]
  },
  {
   "cell_type": "code",
   "execution_count": 8,
   "id": "a3f8d245-adab-4e68-9ee6-5f6bafc12bd1",
   "metadata": {},
   "outputs": [
    {
     "name": "stderr",
     "output_type": "stream",
     "text": [
      "thread '<unnamed>' panicked at 'attempt to subtract with overflow', src/chiquito/src/compiler.rs:808:21\n",
      "note: run with `RUST_BACKTRACE=1` environment variable to display a backtrace\n"
     ]
    },
    {
     "ename": "PanicException",
     "evalue": "attempt to subtract with overflow",
     "output_type": "error",
     "traceback": [
      "\u001b[0;31m---------------------------------------------------------------------------\u001b[0m",
      "\u001b[0;31mPanicException\u001b[0m                            Traceback (most recent call last)",
      "Cell \u001b[0;32mIn[8], line 1\u001b[0m\n\u001b[0;32m----> 1\u001b[0m \u001b[43mfibo\u001b[49m\u001b[38;5;241;43m.\u001b[39;49m\u001b[43mhalo2_mock_prover\u001b[49m\u001b[43m(\u001b[49m\u001b[43mfibo_witness\u001b[49m\u001b[43m)\u001b[49m\n",
      "File \u001b[0;32m~/Documents/repo/pychiquito-7_25_23-v7/PyChiquito/pychiquito/dsl.py:103\u001b[0m, in \u001b[0;36mCircuit.halo2_mock_prover\u001b[0;34m(self, witness)\u001b[0m\n\u001b[1;32m    101\u001b[0m \u001b[38;5;28;01mif\u001b[39;00m \u001b[38;5;28mself\u001b[39m\u001b[38;5;241m.\u001b[39mrust_ast_id \u001b[38;5;241m==\u001b[39m \u001b[38;5;241m0\u001b[39m:\n\u001b[1;32m    102\u001b[0m     ast_json: \u001b[38;5;28mstr\u001b[39m \u001b[38;5;241m=\u001b[39m \u001b[38;5;28mself\u001b[39m\u001b[38;5;241m.\u001b[39mget_ast_json()\n\u001b[0;32m--> 103\u001b[0m     \u001b[38;5;28mself\u001b[39m\u001b[38;5;241m.\u001b[39mrust_ast_id: \u001b[38;5;28mint\u001b[39m \u001b[38;5;241m=\u001b[39m \u001b[43mrust_chiquito\u001b[49m\u001b[38;5;241;43m.\u001b[39;49m\u001b[43mast_to_halo2\u001b[49m\u001b[43m(\u001b[49m\u001b[43mast_json\u001b[49m\u001b[43m)\u001b[49m\n\u001b[1;32m    104\u001b[0m witness_json: \u001b[38;5;28mstr\u001b[39m \u001b[38;5;241m=\u001b[39m witness\u001b[38;5;241m.\u001b[39mget_witness_json()\n\u001b[1;32m    105\u001b[0m rust_chiquito\u001b[38;5;241m.\u001b[39mhalo2_mock_prover(witness_json, \u001b[38;5;28mself\u001b[39m\u001b[38;5;241m.\u001b[39mrust_ast_id)\n",
      "\u001b[0;31mPanicException\u001b[0m: attempt to subtract with overflow"
     ]
    }
   ],
   "source": [
    "fibo.halo2_mock_prover(fibo_witness)"
   ]
  },
  {
   "cell_type": "markdown",
   "id": "fa056c5c-95b0-44c7-9566-c030ac071cf3",
   "metadata": {},
   "source": [
    "Congratulations! Now you finished writing your first Fibonacci circuit and learned about the most essential concepts behind the step-based design of Chiquito, which simply combines step instances into a circuit! With abstraction, composability, modularity, and smooth user experience as the key tenets, writing Halo2 circuits has never been easier with PyChiquito!\n",
    "\n",
    "Next up, in Chapter 3, you will learn about testing your circuit with multiple different witnesses."
   ]
  }
 ],
 "metadata": {
  "kernelspec": {
   "display_name": ".env",
   "language": "python",
   "name": "python3"
  },
  "language_info": {
   "codemirror_mode": {
    "name": "ipython",
    "version": 3
   },
   "file_extension": ".py",
   "mimetype": "text/x-python",
   "name": "python",
   "nbconvert_exporter": "python",
   "pygments_lexer": "ipython3",
   "version": "3.11.4"
  }
 },
 "nbformat": 4,
 "nbformat_minor": 5
}
